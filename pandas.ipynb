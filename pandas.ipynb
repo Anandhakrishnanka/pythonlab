{
  "nbformat": 4,
  "nbformat_minor": 0,
  "metadata": {
    "colab": {
      "provenance": [],
      "mount_file_id": "1-BiOgOZ95V4Fpw2o1tbqLuwfhB2VggV_",
      "authorship_tag": "ABX9TyPVuRm+HG3RMrfQqBt/XLF4",
      "include_colab_link": true
    },
    "kernelspec": {
      "name": "python3",
      "display_name": "Python 3"
    },
    "language_info": {
      "name": "python"
    }
  },
  "cells": [
    {
      "cell_type": "markdown",
      "metadata": {
        "id": "view-in-github",
        "colab_type": "text"
      },
      "source": [
        "<a href=\"https://colab.research.google.com/github/Anandhakrishnanka/pythonlab/blob/main/pandas.ipynb\" target=\"_parent\"><img src=\"https://colab.research.google.com/assets/colab-badge.svg\" alt=\"Open In Colab\"/></a>"
      ]
    },
    {
      "cell_type": "code",
      "execution_count": 5,
      "metadata": {
        "colab": {
          "base_uri": "https://localhost:8080/"
        },
        "id": "AHufTbqHMC7F",
        "outputId": "b7dbebd5-71ea-4f97-bf56-0034fedd3add"
      },
      "outputs": [
        {
          "output_type": "stream",
          "name": "stdout",
          "text": [
            "   sepal_length  sepal_width  petal_length  petal_width species\n",
            "0           5.1          3.5           1.4          0.2  setosa\n",
            "1           4.9          3.0           1.4          0.2  setosa\n",
            "2           4.7          3.2           1.3          0.2  setosa\n",
            "3           4.6          3.1           1.5          0.2  setosa\n",
            "4           5.0          3.6           1.4          0.2  setosa\n"
          ]
        }
      ],
      "source": [
        "import pandas as pd\n",
        "import numpy as np\n",
        "import seaborn as sns\n",
        "from scipy import stats\n",
        "movies=pd.read_csv(\"iris.csv\")\n",
        "print(movies.head(5))"
      ]
    },
    {
      "cell_type": "code",
      "source": [
        "print(movies.describe())\n",
        "print(\"coloumn names:%s\"%movies.columns.values)"
      ],
      "metadata": {
        "colab": {
          "base_uri": "https://localhost:8080/"
        },
        "id": "ZMRhp0GqPAaV",
        "outputId": "2f77d7b9-528b-4817-b900-aa3832c5b145"
      },
      "execution_count": 9,
      "outputs": [
        {
          "output_type": "stream",
          "name": "stdout",
          "text": [
            "       sepal_length  sepal_width  petal_length  petal_width\n",
            "count    150.000000   150.000000    150.000000   150.000000\n",
            "mean       5.843333     3.057333      3.758000     1.199333\n",
            "std        0.828066     0.435866      1.765298     0.762238\n",
            "min        4.300000     2.000000      1.000000     0.100000\n",
            "25%        5.100000     2.800000      1.600000     0.300000\n",
            "50%        5.800000     3.000000      4.350000     1.300000\n",
            "75%        6.400000     3.300000      5.100000     1.800000\n",
            "max        7.900000     4.400000      6.900000     2.500000\n",
            "coloumn names:['sepal_length' 'sepal_width' 'petal_length' 'petal_width' 'species']\n"
          ]
        }
      ]
    },
    {
      "cell_type": "code",
      "source": [
        "print(\"null valiue:\")\n",
        "print(movies.isna())\n"
      ],
      "metadata": {
        "colab": {
          "base_uri": "https://localhost:8080/"
        },
        "id": "aIRkxfdPQ3Kd",
        "outputId": "6d913706-d52c-418c-f74a-db6769711ca4"
      },
      "execution_count": 10,
      "outputs": [
        {
          "output_type": "stream",
          "name": "stdout",
          "text": [
            "null valiue:\n",
            "     sepal_length  sepal_width  petal_length  petal_width  species\n",
            "0           False        False         False        False    False\n",
            "1           False        False         False        False    False\n",
            "2           False        False         False        False    False\n",
            "3           False        False         False        False    False\n",
            "4           False        False         False        False    False\n",
            "..            ...          ...           ...          ...      ...\n",
            "145         False        False         False        False    False\n",
            "146         False        False         False        False    False\n",
            "147         False        False         False        False    False\n",
            "148         False        False         False        False    False\n",
            "149         False        False         False        False    False\n",
            "\n",
            "[150 rows x 5 columns]\n"
          ]
        }
      ]
    },
    {
      "cell_type": "code",
      "source": [
        "print(movies.isna().sum())"
      ],
      "metadata": {
        "colab": {
          "base_uri": "https://localhost:8080/"
        },
        "id": "URiYOG1kRLIy",
        "outputId": "9f8b7837-c16c-4e5d-f56b-0df6ed978843"
      },
      "execution_count": 11,
      "outputs": [
        {
          "output_type": "stream",
          "name": "stdout",
          "text": [
            "sepal_length    0\n",
            "sepal_width     0\n",
            "petal_length    0\n",
            "petal_width     0\n",
            "species         0\n",
            "dtype: int64\n"
          ]
        }
      ]
    },
    {
      "cell_type": "code",
      "source": [
        "print(\"null values %s\"%movies.isnull().values.any())"
      ],
      "metadata": {
        "colab": {
          "base_uri": "https://localhost:8080/"
        },
        "id": "mxBdT8OKRTQj",
        "outputId": "03f292ec-b245-4cbc-c884-4bc035c80c6f"
      },
      "execution_count": 12,
      "outputs": [
        {
          "output_type": "stream",
          "name": "stdout",
          "text": [
            "null values False\n"
          ]
        }
      ]
    },
    {
      "cell_type": "code",
      "source": [
        "print(\"null values %s\"%movies.isna().sum().sum())"
      ],
      "metadata": {
        "colab": {
          "base_uri": "https://localhost:8080/"
        },
        "id": "XQ5hM7OtRl5c",
        "outputId": "0b4ba15c-02f9-471e-8e63-ce311594dba8"
      },
      "execution_count": 13,
      "outputs": [
        {
          "output_type": "stream",
          "name": "stdout",
          "text": [
            "null values 0\n"
          ]
        }
      ]
    },
    {
      "cell_type": "code",
      "source": [
        "clean=movies.dropna(how='any')\n",
        "movies=movies.dropna(how='any')\n",
        "print(clean.shape)"
      ],
      "metadata": {
        "colab": {
          "base_uri": "https://localhost:8080/"
        },
        "id": "ZhJsPPT9R_h_",
        "outputId": "e4fbf02a-e7f2-4a30-a660-42ee83bfb21d"
      },
      "execution_count": 14,
      "outputs": [
        {
          "output_type": "stream",
          "name": "stdout",
          "text": [
            "(150, 5)\n"
          ]
        }
      ]
    },
    {
      "cell_type": "code",
      "source": [
        "movies.fillna(value=0,inplace=True)\n",
        "movies['sepal_width'].fillna(\"noinfo\",inplace=True)\n",
        "print(\"null values\",movies.isna().sum())"
      ],
      "metadata": {
        "colab": {
          "base_uri": "https://localhost:8080/"
        },
        "id": "UGdZ3YRmSn6B",
        "outputId": "833204f7-5fa4-43cb-c9fb-ea8c972f1fc0"
      },
      "execution_count": 16,
      "outputs": [
        {
          "output_type": "stream",
          "name": "stdout",
          "text": [
            "null values sepal_length    0\n",
            "sepal_width     0\n",
            "petal_length    0\n",
            "petal_width     0\n",
            "species         0\n",
            "dtype: int64\n"
          ]
        }
      ]
    },
    {
      "cell_type": "code",
      "source": [
        "duplicate=movies[movies.duplicated()]\n",
        "print(duplicate)"
      ],
      "metadata": {
        "colab": {
          "base_uri": "https://localhost:8080/"
        },
        "id": "zEBrFf-ATqoi",
        "outputId": "530b7792-7906-46ba-fdf1-942cf5ddeab2"
      },
      "execution_count": 19,
      "outputs": [
        {
          "output_type": "stream",
          "name": "stdout",
          "text": [
            "     sepal_length  sepal_width  petal_length  petal_width    species\n",
            "142           5.8          2.7           5.1          1.9  virginica\n"
          ]
        }
      ]
    }
  ]
}